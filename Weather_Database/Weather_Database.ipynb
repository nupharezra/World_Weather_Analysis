{
 "cells": [
  {
   "cell_type": "code",
   "execution_count": 3,
   "metadata": {},
   "outputs": [],
   "source": [
    "#Import dependencies\n",
    "import pandas as pd\n",
    "import numpy as np\n",
    "import matplotlib.pyplot as plt"
   ]
  },
  {
   "cell_type": "code",
   "execution_count": 4,
   "metadata": {},
   "outputs": [
    {
     "data": {
      "text/plain": [
       "<zip at 0x11df61300>"
      ]
     },
     "execution_count": 4,
     "metadata": {},
     "output_type": "execute_result"
    }
   ],
   "source": [
    "# Create a set of random latitude and longitude combinations.\n",
    "lats = np.random.uniform(low=-90.000, high=90.000, size=2000)\n",
    "lngs = np.random.uniform(low=-180.000, high=180.000, size=2000)\n",
    "lat_lngs = zip(lats, lngs)\n",
    "lat_lngs"
   ]
  },
  {
   "cell_type": "code",
   "execution_count": 5,
   "metadata": {},
   "outputs": [],
   "source": [
    "#Add the latitudes and longitudes to a list\n",
    "coordinates = list(lat_lngs)"
   ]
  },
  {
   "cell_type": "code",
   "execution_count": 6,
   "metadata": {},
   "outputs": [],
   "source": [
    "# Use the citipy module to determine city based on latitude and longitude.\n",
    "from citipy import citipy"
   ]
  },
  {
   "cell_type": "code",
   "execution_count": 7,
   "metadata": {},
   "outputs": [
    {
     "data": {
      "text/plain": [
       "732"
      ]
     },
     "execution_count": 7,
     "metadata": {},
     "output_type": "execute_result"
    }
   ],
   "source": [
    "#Create a list for holding the cities.\n",
    "cities = []\n",
    "\n",
    "#identify the nearest city for each latitude and longitude combinations\n",
    "for coordinate in coordinates:\n",
    "    city = citipy.nearest_city(coordinate[0], coordinate[1]).city_name\n",
    "    \n",
    "    #if the city is unique, then we will add it to the cities list\n",
    "    if city not in cities:\n",
    "        cities.append(city)\n",
    "#print the city count to confirm sufficient count\n",
    "len(cities)"
   ]
  },
  {
   "cell_type": "code",
   "execution_count": 8,
   "metadata": {},
   "outputs": [],
   "source": [
    "#import the requests library\n",
    "import requests\n",
    "\n",
    "#import the API key\n",
    "from config import weather_api_key"
   ]
  },
  {
   "cell_type": "code",
   "execution_count": 9,
   "metadata": {},
   "outputs": [],
   "source": [
    "# Starting URL for Weather Map API Call.\n",
    "url = \"http://api.openweathermap.org/data/2.5/weather?units=Imperial&APPID=\" + weather_api_key"
   ]
  },
  {
   "cell_type": "code",
   "execution_count": null,
   "metadata": {},
   "outputs": [
    {
     "name": "stdout",
     "output_type": "stream",
     "text": [
      "Beginning Data Retrieval      \n",
      "------------------------------\n",
      "Processing Record 1 of Set 1 | albany\n",
      "Processing Record 2 of Set 1 | upernavik\n",
      "Processing Record 3 of Set 1 | lebu\n",
      "Processing Record 4 of Set 1 | lavrentiya\n",
      "Processing Record 5 of Set 1 | carnarvon\n",
      "Processing Record 6 of Set 1 | qaanaaq\n",
      "Processing Record 7 of Set 1 | yellowknife\n",
      "Processing Record 8 of Set 1 | nyurba\n",
      "Processing Record 9 of Set 1 | new norfolk\n",
      "Processing Record 10 of Set 1 | savalou\n",
      "Processing Record 11 of Set 1 | rikitea\n",
      "Processing Record 12 of Set 1 | sterling\n",
      "Processing Record 13 of Set 1 | gumia\n",
      "Processing Record 14 of Set 1 | guerrero negro\n",
      "Processing Record 15 of Set 1 | baruun-urt\n",
      "Processing Record 16 of Set 1 | barentsburg\n",
      "City not found. Skipping...\n",
      "Processing Record 17 of Set 1 | korla\n",
      "Processing Record 18 of Set 1 | riyadh\n",
      "Processing Record 19 of Set 1 | tsihombe\n",
      "City not found. Skipping...\n",
      "Processing Record 20 of Set 1 | husavik\n",
      "Processing Record 21 of Set 1 | sola\n",
      "Processing Record 22 of Set 1 | bluff\n",
      "Processing Record 23 of Set 1 | alofi\n",
      "Processing Record 24 of Set 1 | cape town\n",
      "Processing Record 25 of Set 1 | vardo\n",
      "Processing Record 26 of Set 1 | stephenville crossing\n",
      "Processing Record 27 of Set 1 | port elizabeth\n",
      "Processing Record 28 of Set 1 | longyearbyen\n",
      "Processing Record 29 of Set 1 | punta arenas\n",
      "Processing Record 30 of Set 1 | kusye-aleksandrovskiy\n",
      "City not found. Skipping...\n",
      "Processing Record 31 of Set 1 | ukiah\n",
      "Processing Record 32 of Set 1 | hobart\n",
      "Processing Record 33 of Set 1 | saint-philippe\n",
      "Processing Record 34 of Set 1 | taolanaro\n",
      "City not found. Skipping...\n",
      "Processing Record 35 of Set 1 | awbari\n",
      "Processing Record 36 of Set 1 | puerto ayora\n",
      "Processing Record 37 of Set 1 | vaini\n",
      "Processing Record 38 of Set 1 | tura\n",
      "Processing Record 39 of Set 1 | butaritari\n",
      "Processing Record 40 of Set 1 | tuktoyaktuk\n",
      "Processing Record 41 of Set 1 | hilo\n",
      "Processing Record 42 of Set 1 | srednekolymsk\n",
      "Processing Record 43 of Set 1 | kavieng\n",
      "Processing Record 44 of Set 1 | sentyabrskiy\n",
      "City not found. Skipping...\n",
      "Processing Record 45 of Set 1 | douentza\n",
      "Processing Record 46 of Set 1 | rangapara\n",
      "Processing Record 47 of Set 1 | necochea\n",
      "Processing Record 48 of Set 1 | daxian\n",
      "City not found. Skipping...\n",
      "Processing Record 49 of Set 1 | leh\n",
      "Processing Record 50 of Set 1 | gat\n",
      "Processing Record 1 of Set 2 | belushya guba\n",
      "City not found. Skipping...\n",
      "Processing Record 2 of Set 2 | atar\n",
      "Processing Record 3 of Set 2 | hithadhoo\n",
      "Processing Record 4 of Set 2 | mar del plata\n",
      "Processing Record 5 of Set 2 | mullaitivu\n",
      "City not found. Skipping...\n",
      "Processing Record 6 of Set 2 | choucheng\n",
      "City not found. Skipping...\n",
      "Processing Record 7 of Set 2 | kilindoni\n",
      "Processing Record 8 of Set 2 | port alfred\n",
      "Processing Record 9 of Set 2 | ushuaia\n",
      "Processing Record 10 of Set 2 | lasa\n",
      "Processing Record 11 of Set 2 | izumo\n",
      "Processing Record 12 of Set 2 | faanui\n",
      "Processing Record 13 of Set 2 | kaitangata\n",
      "Processing Record 14 of Set 2 | batagay\n",
      "Processing Record 15 of Set 2 | severo-kurilsk\n",
      "Processing Record 16 of Set 2 | sao filipe\n",
      "Processing Record 17 of Set 2 | mehamn\n",
      "Processing Record 18 of Set 2 | east london\n",
      "Processing Record 19 of Set 2 | chokurdakh\n",
      "Processing Record 20 of Set 2 | souillac\n",
      "Processing Record 21 of Set 2 | hamilton\n",
      "Processing Record 22 of Set 2 | saint george\n",
      "Processing Record 23 of Set 2 | luanda\n",
      "Processing Record 24 of Set 2 | menzelinsk\n",
      "Processing Record 25 of Set 2 | aklavik\n",
      "Processing Record 26 of Set 2 | narsaq\n",
      "Processing Record 27 of Set 2 | itarema\n",
      "Processing Record 28 of Set 2 | hami\n",
      "Processing Record 29 of Set 2 | airai\n",
      "Processing Record 30 of Set 2 | stornoway\n",
      "Processing Record 31 of Set 2 | barcelos\n",
      "Processing Record 32 of Set 2 | buin\n",
      "Processing Record 33 of Set 2 | adrar\n",
      "Processing Record 34 of Set 2 | atuona\n",
      "Processing Record 35 of Set 2 | cherskiy\n",
      "Processing Record 36 of Set 2 | isangel\n",
      "Processing Record 37 of Set 2 | belen\n",
      "Processing Record 38 of Set 2 | bayir\n",
      "Processing Record 39 of Set 2 | kharhial\n",
      "Processing Record 40 of Set 2 | bitkine\n",
      "Processing Record 41 of Set 2 | iqaluit\n",
      "Processing Record 42 of Set 2 | cabedelo\n",
      "Processing Record 43 of Set 2 | rudbar\n",
      "Processing Record 44 of Set 2 | bredasdorp\n",
      "Processing Record 45 of Set 2 | castro\n",
      "Processing Record 46 of Set 2 | pijijiapan\n",
      "Processing Record 47 of Set 2 | tasiilaq\n",
      "Processing Record 48 of Set 2 | cabo san lucas\n",
      "Processing Record 49 of Set 2 | havre-saint-pierre\n",
      "Processing Record 50 of Set 2 | hermanus\n",
      "Processing Record 1 of Set 3 | langxiang\n",
      "Processing Record 2 of Set 3 | willowmore\n",
      "Processing Record 3 of Set 3 | tiksi\n",
      "Processing Record 4 of Set 3 | shache\n",
      "Processing Record 5 of Set 3 | amderma\n",
      "City not found. Skipping...\n",
      "Processing Record 6 of Set 3 | kapaa\n",
      "Processing Record 7 of Set 3 | cidreira\n",
      "Processing Record 8 of Set 3 | jamestown\n",
      "Processing Record 9 of Set 3 | pasighat\n",
      "Processing Record 10 of Set 3 | eirunepe\n",
      "Processing Record 11 of Set 3 | hasaki\n",
      "Processing Record 12 of Set 3 | rocha\n",
      "Processing Record 13 of Set 3 | mataura\n",
      "Processing Record 14 of Set 3 | flinders\n",
      "Processing Record 15 of Set 3 | saint-augustin\n",
      "Processing Record 16 of Set 3 | touros\n",
      "Processing Record 17 of Set 3 | provideniya\n",
      "Processing Record 18 of Set 3 | zyryanka\n",
      "Processing Record 19 of Set 3 | illoqqortoormiut\n",
      "City not found. Skipping...\n",
      "Processing Record 20 of Set 3 | santo antonio de jesus\n",
      "Processing Record 21 of Set 3 | kodiak\n",
      "Processing Record 22 of Set 3 | nanortalik\n",
      "Processing Record 23 of Set 3 | antofagasta\n",
      "Processing Record 24 of Set 3 | warqla\n",
      "City not found. Skipping...\n",
      "Processing Record 25 of Set 3 | rahatgarh\n",
      "Processing Record 26 of Set 3 | saleaula\n",
      "City not found. Skipping...\n",
      "Processing Record 27 of Set 3 | san pedro\n",
      "Processing Record 28 of Set 3 | busselton\n",
      "Processing Record 29 of Set 3 | norman wells\n",
      "Processing Record 30 of Set 3 | pevek\n",
      "Processing Record 31 of Set 3 | khatanga\n",
      "Processing Record 32 of Set 3 | ribeira grande\n",
      "Processing Record 33 of Set 3 | lorengau\n",
      "Processing Record 34 of Set 3 | hauterive\n",
      "Processing Record 35 of Set 3 | moyo\n",
      "Processing Record 36 of Set 3 | utiroa\n",
      "City not found. Skipping...\n",
      "Processing Record 37 of Set 3 | rawson\n",
      "Processing Record 38 of Set 3 | lima\n",
      "Processing Record 39 of Set 3 | arraial do cabo\n",
      "Processing Record 40 of Set 3 | luderitz\n",
      "Processing Record 41 of Set 3 | huangnihe\n",
      "Processing Record 42 of Set 3 | zhanakorgan\n",
      "Processing Record 43 of Set 3 | bethel\n",
      "Processing Record 44 of Set 3 | miri\n",
      "Processing Record 45 of Set 3 | viedma\n",
      "Processing Record 46 of Set 3 | mys shmidta\n",
      "City not found. Skipping...\n",
      "Processing Record 47 of Set 3 | zaigrayevo\n",
      "Processing Record 48 of Set 3 | chernaya kholunitsa\n"
     ]
    }
   ],
   "source": [
    "#Create an empty list to hold the weather data\n",
    "city_data_list = []\n",
    "\n",
    "#print the beginning of the logging\n",
    "print(\"Beginning Data Retrieval      \")\n",
    "print(\"------------------------------\")\n",
    "\n",
    "#Create counters\n",
    "record_count = 1\n",
    "set_count = 1\n",
    "\n",
    "#Loop through all the cities in our list.\n",
    "for i, city in enumerate(cities):\n",
    "    \n",
    "    #Group cities in sets of 50 for logging purposes\n",
    "    if (i % 50 == 0 and i >= 50):\n",
    "        set_count += 1\n",
    "        record_count = 1\n",
    "    #Create endpoint URL with each city\n",
    "    city_url = url + \"&q=\" + city.replace(\" \", \"+\")\n",
    "    \n",
    "    #Log the uRL, record, and set numbers and the city\n",
    "    print(f\"Processing Record {record_count} of Set {set_count} | {city}\") \n",
    "    \n",
    "    #Add 1 to the record count\n",
    "    record_count += 1\n",
    "    \n",
    "#run an API request fro each of the cities\n",
    "    try:\n",
    "        #parse te JSON and retrive data\n",
    "        city_weather = requests.get(city_url).json()\n",
    "        #parse out the needed data\n",
    "        city_lat = city_weather[\"coord\"][\"lat\"]\n",
    "        city_lng = city_weather[\"coord\"][\"lon\"]\n",
    "        city_max_temp = city_weather[\"main\"][\"temp_max\"]\n",
    "        city_humidity = city_weather[\"main\"][\"humidity\"]\n",
    "        city_clouds = city_weather[\"clouds\"][\"all\"]\n",
    "        city_wind = city_weather[\"wind\"][\"speed\"]\n",
    "        city_country = city_weather[\"sys\"][\"country\"]\n",
    "        current_city_weather = city_weather[\"weather\"][0][\"description\"]\n",
    "        \n",
    "        #Append the city information into city_data list\n",
    "        city_data.append({\"City\": city.title(),\n",
    "                         \"Lat\": city_lat,\n",
    "                         \"Lng\": city_lng,\n",
    "                         \"Max Temp\": city_max_temp,\n",
    "                          \"Humidity\": city_humidity,\n",
    "                          \"Cloudiness\": city_clouds,\n",
    "                          \"Wind Speed\": city_wind,\n",
    "                          \"Country\": city_country,\n",
    "                          \"Weather Description\": current_city_weather})\n",
    "        \n",
    "        #If an error is experienced, skip the city\n",
    "    except:\n",
    "        print(\"City not found. Skipping...\")\n",
    "        pass\n",
    "#Indicate that the Data Loading is complete\n",
    "print(\"----------------------------------\")\n",
    "print(\"Data Retrieval Complete\")\n",
    "print(\"----------------------------------\")"
   ]
  },
  {
   "cell_type": "code",
   "execution_count": 1,
   "metadata": {},
   "outputs": [
    {
     "ename": "NameError",
     "evalue": "name 'city_data' is not defined",
     "output_type": "error",
     "traceback": [
      "\u001b[0;31m---------------------------------------------------------------------------\u001b[0m",
      "\u001b[0;31mNameError\u001b[0m                                 Traceback (most recent call last)",
      "\u001b[0;32m<ipython-input-1-45bcbc2b519d>\u001b[0m in \u001b[0;36m<module>\u001b[0;34m\u001b[0m\n\u001b[0;32m----> 1\u001b[0;31m \u001b[0mlen\u001b[0m\u001b[0;34m(\u001b[0m\u001b[0mcity_data\u001b[0m\u001b[0;34m)\u001b[0m\u001b[0;34m\u001b[0m\u001b[0;34m\u001b[0m\u001b[0m\n\u001b[0m",
      "\u001b[0;31mNameError\u001b[0m: name 'city_data' is not defined"
     ]
    }
   ],
   "source": [
    "len(city_data)"
   ]
  },
  {
   "cell_type": "code",
   "execution_count": null,
   "metadata": {},
   "outputs": [],
   "source": [
    "new_column_order = [\"City\", \"Country\", \"Lat\", \"Lng\", \"Max Temp\", \"Humidity\", \"Cloudiness\", \"Wind Speed\", \"Weather Description\"]\n",
    "\n",
    "city_data_df = city_data_df[new_column_order]\n",
    "\n",
    "city_data_df.head(10)"
   ]
  },
  {
   "cell_type": "code",
   "execution_count": null,
   "metadata": {},
   "outputs": [],
   "source": [
    "output_data_file = \"WeatherPy_Database/WeatherPy_Database.csv\"\n",
    "\n",
    "city_data_df = (output_data_file, index_label=\"City_ID\")"
   ]
  }
 ],
 "metadata": {
  "kernelspec": {
   "display_name": "PythonData",
   "language": "python",
   "name": "pythondata"
  },
  "language_info": {
   "codemirror_mode": {
    "name": "ipython",
    "version": 3
   },
   "file_extension": ".py",
   "mimetype": "text/x-python",
   "name": "python",
   "nbconvert_exporter": "python",
   "pygments_lexer": "ipython3",
   "version": "3.8.5"
  }
 },
 "nbformat": 4,
 "nbformat_minor": 4
}
